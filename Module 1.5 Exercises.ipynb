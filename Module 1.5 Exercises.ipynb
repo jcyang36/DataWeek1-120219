{
 "cells": [
  {
   "cell_type": "markdown",
   "metadata": {},
   "source": [
    "# Module 5 Exercises - Time Series"
   ]
  },
  {
   "cell_type": "markdown",
   "metadata": {},
   "source": [
    "### Exercise 1:\n",
    "\n",
    "Create a numPy datetime variable with today's date. Then create 7 consecutive days (1 week) starting from the variable with today's date."
   ]
  },
  {
   "cell_type": "code",
   "execution_count": 2,
   "metadata": {},
   "outputs": [],
   "source": [
    "import pandas as pd\n",
    "import numpy as np\n",
    "import seaborn; seaborn.set()\n",
    "import matplotlib.pyplot as plt\n",
    "\n",
    "from datetime import datetime\n",
    "\n",
    "%matplotlib inline"
   ]
  },
  {
   "cell_type": "code",
   "execution_count": 4,
   "metadata": {},
   "outputs": [
    {
     "data": {
      "text/plain": [
       "array('2019-12-04', dtype='datetime64[D]')"
      ]
     },
     "execution_count": 4,
     "metadata": {},
     "output_type": "execute_result"
    }
   ],
   "source": [
    "date=np.array('2019-12-04',dtype=np.datetime64)\n",
    "date"
   ]
  },
  {
   "cell_type": "code",
   "execution_count": 6,
   "metadata": {},
   "outputs": [
    {
     "data": {
      "text/plain": [
       "array(['2019-12-04', '2019-12-05', '2019-12-06', '2019-12-07',\n",
       "       '2019-12-08', '2019-12-09', '2019-12-10'], dtype='datetime64[D]')"
      ]
     },
     "execution_count": 6,
     "metadata": {},
     "output_type": "execute_result"
    }
   ],
   "source": [
    "week=date+np.arange(7)\n",
    "week"
   ]
  },
  {
   "cell_type": "markdown",
   "metadata": {},
   "source": [
    "### Exercise 2:\n",
    "\n",
    "Create a pandas datetime index with the dates 2016-02-11, 2016-07-01, 2016-07-09, 2016-10-08, 2017-02-18, 2017-02-25, 2017-05-02, 2017-08-26, 2017-12-15, and 2018-02-11. Then create a pandas Series with the values 0,1,2,3,4,5,6,7,8, and 9 in a list, with the dates as the index. Get the rows from the year 2017.  "
   ]
  },
  {
   "cell_type": "code",
   "execution_count": 8,
   "metadata": {},
   "outputs": [
    {
     "data": {
      "text/plain": [
       "DatetimeIndex(['2016-02-11', '2016-07-01', '2016-07-09', '2016-10-08',\n",
       "               '2017-02-18', '2017-02-25', '2017-05-02', '2017-08-26',\n",
       "               '2017-12-15', '2018-02-11'],\n",
       "              dtype='datetime64[ns]', freq=None)"
      ]
     },
     "execution_count": 8,
     "metadata": {},
     "output_type": "execute_result"
    }
   ],
   "source": [
    "index=pd.DatetimeIndex(['2016-02-11','2016-07-01','2016-07-09','2016-10-08','2017-02-18','2017-02-25','2017-05-02','2017-08-26','2017-12-15','2018-02-11'])\n",
    "index\n"
   ]
  },
  {
   "cell_type": "code",
   "execution_count": 12,
   "metadata": {},
   "outputs": [
    {
     "data": {
      "text/plain": [
       "2016-02-11    0\n",
       "2016-07-01    1\n",
       "2016-07-09    2\n",
       "2016-10-08    3\n",
       "2017-02-18    4\n",
       "2017-02-25    5\n",
       "2017-05-02    6\n",
       "2017-08-26    7\n",
       "2017-12-15    8\n",
       "2018-02-11    9\n",
       "dtype: int64"
      ]
     },
     "execution_count": 12,
     "metadata": {},
     "output_type": "execute_result"
    }
   ],
   "source": [
    "data=pd.Series(range(10),index=index)\n",
    "data"
   ]
  },
  {
   "cell_type": "code",
   "execution_count": 13,
   "metadata": {},
   "outputs": [
    {
     "data": {
      "text/plain": [
       "(array([4, 5, 6, 7, 8], dtype=int64),)"
      ]
     },
     "execution_count": 13,
     "metadata": {},
     "output_type": "execute_result"
    }
   ],
   "source": [
    "datafrom2017=np.where(data.index.year==2017)\n",
    "datafrom2017"
   ]
  },
  {
   "cell_type": "markdown",
   "metadata": {},
   "source": [
    "### Exercise 3:\n",
    "\n",
    "Convert the following date formats into pandas datetime:\n",
    "\n",
    "- datetime(2017, 12, 15)\n",
    "- 8th of October 2016\n",
    "- 20180211\n",
    "- 2017-02-25\n",
    "- 2019-Jan-16"
   ]
  },
  {
   "cell_type": "code",
   "execution_count": 14,
   "metadata": {},
   "outputs": [
    {
     "data": {
      "text/plain": [
       "Timestamp('2017-12-15 00:00:00')"
      ]
     },
     "execution_count": 14,
     "metadata": {},
     "output_type": "execute_result"
    }
   ],
   "source": [
    "pd.to_datetime(datetime(2017,12,15))"
   ]
  },
  {
   "cell_type": "code",
   "execution_count": 15,
   "metadata": {},
   "outputs": [
    {
     "data": {
      "text/plain": [
       "Timestamp('2016-10-08 00:00:00')"
      ]
     },
     "execution_count": 15,
     "metadata": {},
     "output_type": "execute_result"
    }
   ],
   "source": [
    "pd.to_datetime(\"8th of October 2016\")"
   ]
  },
  {
   "cell_type": "code",
   "execution_count": 17,
   "metadata": {},
   "outputs": [
    {
     "data": {
      "text/plain": [
       "Timestamp('2018-02-11 00:00:00')"
      ]
     },
     "execution_count": 17,
     "metadata": {},
     "output_type": "execute_result"
    }
   ],
   "source": [
    "pd.to_datetime('20180211')"
   ]
  },
  {
   "cell_type": "code",
   "execution_count": 18,
   "metadata": {},
   "outputs": [
    {
     "data": {
      "text/plain": [
       "Timestamp('2017-02-25 00:00:00')"
      ]
     },
     "execution_count": 18,
     "metadata": {},
     "output_type": "execute_result"
    }
   ],
   "source": [
    "pd.to_datetime('2017-02-25')"
   ]
  },
  {
   "cell_type": "code",
   "execution_count": 20,
   "metadata": {},
   "outputs": [
    {
     "data": {
      "text/plain": [
       "Timestamp('2017-02-25 00:00:00')"
      ]
     },
     "execution_count": 20,
     "metadata": {},
     "output_type": "execute_result"
    }
   ],
   "source": [
    "pd.to_datetime('2017-02-25')"
   ]
  },
  {
   "cell_type": "code",
   "execution_count": 21,
   "metadata": {},
   "outputs": [
    {
     "data": {
      "text/plain": [
       "Timestamp('2019-01-16 00:00:00')"
      ]
     },
     "execution_count": 21,
     "metadata": {},
     "output_type": "execute_result"
    }
   ],
   "source": [
    "pd.to_datetime('2019-Jan-16')"
   ]
  },
  {
   "cell_type": "markdown",
   "metadata": {},
   "source": [
    "### Exercise 4:\n",
    "\n",
    "Using the pandas library, make a time delta range that has five periods with a 1 hour 45 minute interval."
   ]
  },
  {
   "cell_type": "code",
   "execution_count": 22,
   "metadata": {},
   "outputs": [
    {
     "data": {
      "text/plain": [
       "TimedeltaIndex(['00:00:00', '01:45:00', '03:30:00', '05:15:00', '07:00:00'], dtype='timedelta64[ns]', freq='105T')"
      ]
     },
     "execution_count": 22,
     "metadata": {},
     "output_type": "execute_result"
    }
   ],
   "source": [
    "pd.timedelta_range(0,periods=5,freq='1H45T')"
   ]
  },
  {
   "cell_type": "markdown",
   "metadata": {},
   "source": [
    "### Exercise 5:\n",
    "\n",
    "Using the pandas library, create a time delta range with 20 business days starting from today's date."
   ]
  },
  {
   "cell_type": "code",
   "execution_count": 25,
   "metadata": {},
   "outputs": [
    {
     "data": {
      "text/plain": [
       "DatetimeIndex(['2019-12-04', '2019-12-05', '2019-12-06', '2019-12-09',\n",
       "               '2019-12-10', '2019-12-11', '2019-12-12', '2019-12-13',\n",
       "               '2019-12-16', '2019-12-17', '2019-12-18', '2019-12-19',\n",
       "               '2019-12-20', '2019-12-23', '2019-12-24', '2019-12-25',\n",
       "               '2019-12-26', '2019-12-27', '2019-12-30', '2019-12-31'],\n",
       "              dtype='datetime64[ns]', freq='B')"
      ]
     },
     "execution_count": 25,
     "metadata": {},
     "output_type": "execute_result"
    }
   ],
   "source": [
    "from pandas.tseries.offsets import BDay\n",
    "pd.date_range('2019-12-04',periods=20,freq=BDay())"
   ]
  },
  {
   "cell_type": "markdown",
   "metadata": {},
   "source": [
    "### Exercise 6:\n",
    "\n",
    "From [this link](https://notebooks.azure.com/priesterkc/projects/DABmaterial/tree/Lv1%20Data%20Analytics/datasets), download the \"smalltravel.csv\" file and upload it to your datasets folder. Then using pandas, read the file into a dataframe. Resample the average speed column by week using the mean, and plot the graph. \n",
    "\n",
    "**Tip**: You do not need to add the line style in the plot code."
   ]
  },
  {
   "cell_type": "code",
   "execution_count": 40,
   "metadata": {},
   "outputs": [
    {
     "data": {
      "text/html": [
       "<div>\n",
       "<style scoped>\n",
       "    .dataframe tbody tr th:only-of-type {\n",
       "        vertical-align: middle;\n",
       "    }\n",
       "\n",
       "    .dataframe tbody tr th {\n",
       "        vertical-align: top;\n",
       "    }\n",
       "\n",
       "    .dataframe thead th {\n",
       "        text-align: right;\n",
       "    }\n",
       "</style>\n",
       "<table border=\"1\" class=\"dataframe\">\n",
       "  <thead>\n",
       "    <tr style=\"text-align: right;\">\n",
       "      <th></th>\n",
       "      <th>GoingTo</th>\n",
       "      <th>AvgSpeed</th>\n",
       "      <th>MovingTime</th>\n",
       "    </tr>\n",
       "    <tr>\n",
       "      <th>Date</th>\n",
       "      <th></th>\n",
       "      <th></th>\n",
       "      <th></th>\n",
       "    </tr>\n",
       "  </thead>\n",
       "  <tbody>\n",
       "    <tr>\n",
       "      <th>2012-01-06</th>\n",
       "      <td>Home</td>\n",
       "      <td>78.3</td>\n",
       "      <td>36.3</td>\n",
       "    </tr>\n",
       "    <tr>\n",
       "      <th>2012-01-06</th>\n",
       "      <td>GSK</td>\n",
       "      <td>81.8</td>\n",
       "      <td>34.9</td>\n",
       "    </tr>\n",
       "    <tr>\n",
       "      <th>2012-01-04</th>\n",
       "      <td>Home</td>\n",
       "      <td>82.0</td>\n",
       "      <td>35.9</td>\n",
       "    </tr>\n",
       "    <tr>\n",
       "      <th>2012-01-04</th>\n",
       "      <td>GSK</td>\n",
       "      <td>74.2</td>\n",
       "      <td>35.6</td>\n",
       "    </tr>\n",
       "    <tr>\n",
       "      <th>2012-01-03</th>\n",
       "      <td>Home</td>\n",
       "      <td>83.4</td>\n",
       "      <td>34.8</td>\n",
       "    </tr>\n",
       "    <tr>\n",
       "      <th>2012-01-03</th>\n",
       "      <td>GSK</td>\n",
       "      <td>84.5</td>\n",
       "      <td>35.0</td>\n",
       "    </tr>\n",
       "    <tr>\n",
       "      <th>2012-01-02</th>\n",
       "      <td>Home</td>\n",
       "      <td>82.9</td>\n",
       "      <td>35.3</td>\n",
       "    </tr>\n",
       "    <tr>\n",
       "      <th>2012-01-02</th>\n",
       "      <td>GSK</td>\n",
       "      <td>77.5</td>\n",
       "      <td>34.3</td>\n",
       "    </tr>\n",
       "    <tr>\n",
       "      <th>2011-12-23</th>\n",
       "      <td>GSK</td>\n",
       "      <td>80.9</td>\n",
       "      <td>36.0</td>\n",
       "    </tr>\n",
       "    <tr>\n",
       "      <th>2011-12-22</th>\n",
       "      <td>Home</td>\n",
       "      <td>70.6</td>\n",
       "      <td>39.3</td>\n",
       "    </tr>\n",
       "    <tr>\n",
       "      <th>2011-12-22</th>\n",
       "      <td>GSK</td>\n",
       "      <td>74.0</td>\n",
       "      <td>36.2</td>\n",
       "    </tr>\n",
       "    <tr>\n",
       "      <th>2011-12-21</th>\n",
       "      <td>GSK</td>\n",
       "      <td>71.7</td>\n",
       "      <td>39.4</td>\n",
       "    </tr>\n",
       "    <tr>\n",
       "      <th>2011-12-20</th>\n",
       "      <td>Home</td>\n",
       "      <td>75.2</td>\n",
       "      <td>37.3</td>\n",
       "    </tr>\n",
       "    <tr>\n",
       "      <th>2011-12-20</th>\n",
       "      <td>GSK</td>\n",
       "      <td>77.4</td>\n",
       "      <td>35.9</td>\n",
       "    </tr>\n",
       "    <tr>\n",
       "      <th>2011-12-19</th>\n",
       "      <td>Home</td>\n",
       "      <td>77.5</td>\n",
       "      <td>36.7</td>\n",
       "    </tr>\n",
       "    <tr>\n",
       "      <th>2011-12-19</th>\n",
       "      <td>GSK</td>\n",
       "      <td>76.5</td>\n",
       "      <td>35.5</td>\n",
       "    </tr>\n",
       "    <tr>\n",
       "      <th>2011-12-16</th>\n",
       "      <td>Home</td>\n",
       "      <td>86.9</td>\n",
       "      <td>33.8</td>\n",
       "    </tr>\n",
       "    <tr>\n",
       "      <th>2011-12-16</th>\n",
       "      <td>GSK</td>\n",
       "      <td>71.1</td>\n",
       "      <td>36.7</td>\n",
       "    </tr>\n",
       "    <tr>\n",
       "      <th>2011-12-15</th>\n",
       "      <td>Home</td>\n",
       "      <td>80.5</td>\n",
       "      <td>36.1</td>\n",
       "    </tr>\n",
       "    <tr>\n",
       "      <th>2011-12-15</th>\n",
       "      <td>GSK</td>\n",
       "      <td>68.1</td>\n",
       "      <td>40.9</td>\n",
       "    </tr>\n",
       "    <tr>\n",
       "      <th>2011-12-14</th>\n",
       "      <td>Home</td>\n",
       "      <td>75.1</td>\n",
       "      <td>38.6</td>\n",
       "    </tr>\n",
       "    <tr>\n",
       "      <th>2011-12-14</th>\n",
       "      <td>GSK</td>\n",
       "      <td>76.6</td>\n",
       "      <td>37.5</td>\n",
       "    </tr>\n",
       "  </tbody>\n",
       "</table>\n",
       "</div>"
      ],
      "text/plain": [
       "           GoingTo  AvgSpeed  MovingTime\n",
       "Date                                    \n",
       "2012-01-06    Home      78.3        36.3\n",
       "2012-01-06     GSK      81.8        34.9\n",
       "2012-01-04    Home      82.0        35.9\n",
       "2012-01-04     GSK      74.2        35.6\n",
       "2012-01-03    Home      83.4        34.8\n",
       "2012-01-03     GSK      84.5        35.0\n",
       "2012-01-02    Home      82.9        35.3\n",
       "2012-01-02     GSK      77.5        34.3\n",
       "2011-12-23     GSK      80.9        36.0\n",
       "2011-12-22    Home      70.6        39.3\n",
       "2011-12-22     GSK      74.0        36.2\n",
       "2011-12-21     GSK      71.7        39.4\n",
       "2011-12-20    Home      75.2        37.3\n",
       "2011-12-20     GSK      77.4        35.9\n",
       "2011-12-19    Home      77.5        36.7\n",
       "2011-12-19     GSK      76.5        35.5\n",
       "2011-12-16    Home      86.9        33.8\n",
       "2011-12-16     GSK      71.1        36.7\n",
       "2011-12-15    Home      80.5        36.1\n",
       "2011-12-15     GSK      68.1        40.9\n",
       "2011-12-14    Home      75.1        38.6\n",
       "2011-12-14     GSK      76.6        37.5"
      ]
     },
     "execution_count": 40,
     "metadata": {},
     "output_type": "execute_result"
    }
   ],
   "source": [
    "traveldata=pd.read_csv('datasets/smalltravel.csv',index_col=\"Date\",parse_dates=True)\n",
    "traveldata.head(22)"
   ]
  },
  {
   "cell_type": "code",
   "execution_count": 32,
   "metadata": {},
   "outputs": [
    {
     "data": {
      "text/plain": [
       "<matplotlib.axes._subplots.AxesSubplot at 0x23c7df0d780>"
      ]
     },
     "execution_count": 32,
     "metadata": {},
     "output_type": "execute_result"
    },
    {
     "data": {
      "image/png": "[encoded data removed]",
      "text/plain": [
       "<Figure size 432x288 with 1 Axes>"
      ]
     },
     "metadata": {
      "needs_background": "light"
     },
     "output_type": "display_data"
    }
   ],
   "source": [
    "weeklydata=traveldata.resample('W').mean()\n",
    "weeklydata.plot()"
   ]
  },
  {
   "cell_type": "code",
   "execution_count": null,
   "metadata": {},
   "outputs": [],
   "source": []
  },
  {
   "cell_type": "markdown",
   "metadata": {},
   "source": [
    "### Exercise 7:\n",
    "\n",
    "Using the dataframe from the previous exercise, write code to group the moving time column by day of the week, then plot the graph.\n",
    "\n",
    "**Tip**: The index list only needs to contain the weekdays. You do not need to add the line style in the plot code."
   ]
  },
  {
   "cell_type": "code",
   "execution_count": 33,
   "metadata": {},
   "outputs": [],
   "source": [
    "by_weekday=data.groupby(data.index.dayofweek).mean()"
   ]
  },
  {
   "cell_type": "code",
   "execution_count": 37,
   "metadata": {},
   "outputs": [
    {
     "data": {
      "text/plain": [
       "<matplotlib.axes._subplots.AxesSubplot at 0x23c7f45b630>"
      ]
     },
     "execution_count": 37,
     "metadata": {},
     "output_type": "execute_result"
    },
    {
     "data": {
      "image/png": "[encoded data removed]",
      "text/plain": [
       "<Figure size 432x288 with 1 Axes>"
      ]
     },
     "metadata": {
      "needs_background": "light"
     },
     "output_type": "display_data"
    }
   ],
   "source": [
    "by_weekday.index=['Mon','Tue','Wed','Thur','Fri']\n",
    "by_weekday.plot()"
   ]
  },
  {
   "cell_type": "code",
   "execution_count": 38,
   "metadata": {},
   "outputs": [
    {
     "data": {
      "text/plain": [
       "Mon     6.0\n",
       "Tue     0.0\n",
       "Wed     4.5\n",
       "Thur    4.2\n",
       "Fri     9.0\n",
       "dtype: float64"
      ]
     },
     "execution_count": 38,
     "metadata": {},
     "output_type": "execute_result"
    }
   ],
   "source": [
    "by_weekday.head()\n"
   ]
  },
  {
   "cell_type": "code",
   "execution_count": null,
   "metadata": {},
   "outputs": [],
   "source": []
  }
 ],
 "metadata": {
  "kernelspec": {
   "display_name": "Python 3",
   "language": "python",
   "name": "python3"
  },
  "language_info": {
   "codemirror_mode": {
    "name": "ipython",
    "version": 3
   },
   "file_extension": ".py",
   "mimetype": "text/x-python",
   "name": "python",
   "nbconvert_exporter": "python",
   "pygments_lexer": "ipython3",
   "version": "3.7.3"
  }
 },
 "nbformat": 4,
 "nbformat_minor": 2
}
