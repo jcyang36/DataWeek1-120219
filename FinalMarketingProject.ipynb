{
 "cells": [
  {
   "cell_type": "code",
   "execution_count": 2,
   "metadata": {},
   "outputs": [],
   "source": [
    "import numpy as np\n",
    "import pandas as pd\n",
    "\n"
   ]
  },
  {
   "cell_type": "code",
   "execution_count": 3,
   "metadata": {},
   "outputs": [],
   "source": [
    "df=pd.read_csv('datasets/Kickstartercombo.csv')"
   ]
  },
  {
   "cell_type": "code",
   "execution_count": 4,
   "metadata": {},
   "outputs": [
    {
     "data": {
      "text/html": [
       "<div>\n",
       "<style scoped>\n",
       "    .dataframe tbody tr th:only-of-type {\n",
       "        vertical-align: middle;\n",
       "    }\n",
       "\n",
       "    .dataframe tbody tr th {\n",
       "        vertical-align: top;\n",
       "    }\n",
       "\n",
       "    .dataframe thead th {\n",
       "        text-align: right;\n",
       "    }\n",
       "</style>\n",
       "<table border=\"1\" class=\"dataframe\">\n",
       "  <thead>\n",
       "    <tr style=\"text-align: right;\">\n",
       "      <th></th>\n",
       "      <th>Unnamed: 0</th>\n",
       "      <th>ID</th>\n",
       "      <th>name</th>\n",
       "      <th>main_category</th>\n",
       "      <th>category</th>\n",
       "      <th>country</th>\n",
       "      <th>state</th>\n",
       "      <th>goal</th>\n",
       "      <th>pledged</th>\n",
       "      <th>currency</th>\n",
       "      <th>launched</th>\n",
       "      <th>deadline</th>\n",
       "      <th>backers</th>\n",
       "      <th>usd pledged</th>\n",
       "      <th>usd_goal_real</th>\n",
       "      <th>usd_pledged_real</th>\n",
       "    </tr>\n",
       "  </thead>\n",
       "  <tbody>\n",
       "    <tr>\n",
       "      <th>0</th>\n",
       "      <td>0</td>\n",
       "      <td>1000002330</td>\n",
       "      <td>The Songs of Adelaide &amp; Abullah</td>\n",
       "      <td>Publishing</td>\n",
       "      <td>Poetry</td>\n",
       "      <td>GB</td>\n",
       "      <td>failed</td>\n",
       "      <td>1000.0</td>\n",
       "      <td>0.0</td>\n",
       "      <td>GBP</td>\n",
       "      <td>2015-08-11 12:12:00</td>\n",
       "      <td>2015-10-09 11:36:00</td>\n",
       "      <td>0</td>\n",
       "      <td>0.0</td>\n",
       "      <td>NaN</td>\n",
       "      <td>NaN</td>\n",
       "    </tr>\n",
       "    <tr>\n",
       "      <th>1</th>\n",
       "      <td>1</td>\n",
       "      <td>1000004038</td>\n",
       "      <td>Where is Hank?</td>\n",
       "      <td>Film &amp; Video</td>\n",
       "      <td>Narrative Film</td>\n",
       "      <td>US</td>\n",
       "      <td>failed</td>\n",
       "      <td>45000.0</td>\n",
       "      <td>220.0</td>\n",
       "      <td>USD</td>\n",
       "      <td>2013-01-12 00:20:00</td>\n",
       "      <td>2013-02-26 00:20:00</td>\n",
       "      <td>3</td>\n",
       "      <td>220.0</td>\n",
       "      <td>NaN</td>\n",
       "      <td>NaN</td>\n",
       "    </tr>\n",
       "    <tr>\n",
       "      <th>2</th>\n",
       "      <td>2</td>\n",
       "      <td>1000007540</td>\n",
       "      <td>ToshiCapital Rekordz Needs Help to Complete Album</td>\n",
       "      <td>Music</td>\n",
       "      <td>Music</td>\n",
       "      <td>US</td>\n",
       "      <td>failed</td>\n",
       "      <td>5000.0</td>\n",
       "      <td>1.0</td>\n",
       "      <td>USD</td>\n",
       "      <td>2012-03-17 03:24:00</td>\n",
       "      <td>2012-04-16 04:24:00</td>\n",
       "      <td>1</td>\n",
       "      <td>1.0</td>\n",
       "      <td>NaN</td>\n",
       "      <td>NaN</td>\n",
       "    </tr>\n",
       "    <tr>\n",
       "      <th>3</th>\n",
       "      <td>3</td>\n",
       "      <td>1000011046</td>\n",
       "      <td>Community Film Project: The Art of Neighborhoo...</td>\n",
       "      <td>Film &amp; Video</td>\n",
       "      <td>Film &amp; Video</td>\n",
       "      <td>US</td>\n",
       "      <td>canceled</td>\n",
       "      <td>19500.0</td>\n",
       "      <td>1283.0</td>\n",
       "      <td>USD</td>\n",
       "      <td>2015-07-04 08:35:00</td>\n",
       "      <td>2015-08-29 01:00:00</td>\n",
       "      <td>14</td>\n",
       "      <td>1283.0</td>\n",
       "      <td>NaN</td>\n",
       "      <td>NaN</td>\n",
       "    </tr>\n",
       "    <tr>\n",
       "      <th>4</th>\n",
       "      <td>4</td>\n",
       "      <td>1000014025</td>\n",
       "      <td>Monarch Espresso Bar</td>\n",
       "      <td>Food</td>\n",
       "      <td>Restaurants</td>\n",
       "      <td>US</td>\n",
       "      <td>successful</td>\n",
       "      <td>50000.0</td>\n",
       "      <td>52375.0</td>\n",
       "      <td>USD</td>\n",
       "      <td>2016-02-26 13:38:00</td>\n",
       "      <td>2016-04-01 13:38:00</td>\n",
       "      <td>224</td>\n",
       "      <td>52375.0</td>\n",
       "      <td>NaN</td>\n",
       "      <td>NaN</td>\n",
       "    </tr>\n",
       "  </tbody>\n",
       "</table>\n",
       "</div>"
      ],
      "text/plain": [
       "   Unnamed: 0          ID                                               name  \\\n",
       "0           0  1000002330                    The Songs of Adelaide & Abullah   \n",
       "1           1  1000004038                                     Where is Hank?   \n",
       "2           2  1000007540  ToshiCapital Rekordz Needs Help to Complete Album   \n",
       "3           3  1000011046  Community Film Project: The Art of Neighborhoo...   \n",
       "4           4  1000014025                               Monarch Espresso Bar   \n",
       "\n",
       "  main_category        category country       state     goal  pledged  \\\n",
       "0    Publishing          Poetry      GB      failed   1000.0      0.0   \n",
       "1  Film & Video  Narrative Film      US      failed  45000.0    220.0   \n",
       "2         Music           Music      US      failed   5000.0      1.0   \n",
       "3  Film & Video    Film & Video      US    canceled  19500.0   1283.0   \n",
       "4          Food     Restaurants      US  successful  50000.0  52375.0   \n",
       "\n",
       "  currency             launched             deadline  backers  usd pledged  \\\n",
       "0      GBP  2015-08-11 12:12:00  2015-10-09 11:36:00        0          0.0   \n",
       "1      USD  2013-01-12 00:20:00  2013-02-26 00:20:00        3        220.0   \n",
       "2      USD  2012-03-17 03:24:00  2012-04-16 04:24:00        1          1.0   \n",
       "3      USD  2015-07-04 08:35:00  2015-08-29 01:00:00       14       1283.0   \n",
       "4      USD  2016-02-26 13:38:00  2016-04-01 13:38:00      224      52375.0   \n",
       "\n",
       "   usd_goal_real  usd_pledged_real  \n",
       "0            NaN               NaN  \n",
       "1            NaN               NaN  \n",
       "2            NaN               NaN  \n",
       "3            NaN               NaN  \n",
       "4            NaN               NaN  "
      ]
     },
     "execution_count": 4,
     "metadata": {},
     "output_type": "execute_result"
    }
   ],
   "source": [
    "df.head()"
   ]
  },
  {
   "cell_type": "code",
   "execution_count": 10,
   "metadata": {},
   "outputs": [
    {
     "data": {
      "text/plain": [
       "(378661, 15)"
      ]
     },
     "execution_count": 10,
     "metadata": {},
     "output_type": "execute_result"
    }
   ],
   "source": [
    "df.shape"
   ]
  },
  {
   "cell_type": "code",
   "execution_count": 5,
   "metadata": {},
   "outputs": [
    {
     "data": {
      "text/plain": [
       "Index(['Unnamed: 0', 'ID', 'name', 'main_category', 'category', 'country',\n",
       "       'state', 'goal', 'pledged', 'currency', 'launched', 'deadline',\n",
       "       'backers', 'usd pledged', 'usd_goal_real', 'usd_pledged_real'],\n",
       "      dtype='object')"
      ]
     },
     "execution_count": 5,
     "metadata": {},
     "output_type": "execute_result"
    }
   ],
   "source": [
    "df.columns"
   ]
  },
  {
   "cell_type": "code",
   "execution_count": null,
   "metadata": {},
   "outputs": [],
   "source": []
  }
 ],
 "metadata": {
  "kernelspec": {
   "display_name": "Python 3",
   "language": "python",
   "name": "python3"
  },
  "language_info": {
   "codemirror_mode": {
    "name": "ipython",
    "version": 3
   },
   "file_extension": ".py",
   "mimetype": "text/x-python",
   "name": "python",
   "nbconvert_exporter": "python",
   "pygments_lexer": "ipython3",
   "version": "3.7.3"
  }
 },
 "nbformat": 4,
 "nbformat_minor": 2
}
