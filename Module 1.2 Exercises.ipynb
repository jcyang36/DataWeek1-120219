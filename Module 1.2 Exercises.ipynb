{
 "cells": [
  {
   "cell_type": "markdown",
   "metadata": {},
   "source": [
    "# Module 2 Exercises - Explore Data"
   ]
  },
  {
   "cell_type": "markdown",
   "metadata": {},
   "source": [
    "### Exercise 1:\n",
    "Use the pandas library to read in the file \"travel-times.csv\" as a dataframe. Set the dataframe's variable name as \"travel_df\".\n",
    "\n",
    "*Note*: Download the file from [here](https://notebooks.azure.com/priesterkc/projects/DABmaterial/tree/Lv1%20Data%20Analytics/datasets)."
   ]
  },
  {
   "cell_type": "code",
   "execution_count": 18,
   "metadata": {},
   "outputs": [],
   "source": [
    "import numpy as np\n",
    "import pandas as pd"
   ]
  },
  {
   "cell_type": "code",
   "execution_count": 19,
   "metadata": {},
   "outputs": [
    {
     "data": {
      "text/html": [
       "<div>\n",
       "<style scoped>\n",
       "    .dataframe tbody tr th:only-of-type {\n",
       "        vertical-align: middle;\n",
       "    }\n",
       "\n",
       "    .dataframe tbody tr th {\n",
       "        vertical-align: top;\n",
       "    }\n",
       "\n",
       "    .dataframe thead th {\n",
       "        text-align: right;\n",
       "    }\n",
       "</style>\n",
       "<table border=\"1\" class=\"dataframe\">\n",
       "  <thead>\n",
       "    <tr style=\"text-align: right;\">\n",
       "      <th></th>\n",
       "      <th>Date</th>\n",
       "      <th>StartTime</th>\n",
       "      <th>DayOfWeek</th>\n",
       "      <th>GoingTo</th>\n",
       "      <th>Distance</th>\n",
       "      <th>MaxSpeed</th>\n",
       "      <th>AvgSpeed</th>\n",
       "      <th>AvgMovingSpeed</th>\n",
       "      <th>FuelEconomy</th>\n",
       "      <th>TotalTime</th>\n",
       "      <th>MovingTime</th>\n",
       "      <th>Take407All</th>\n",
       "      <th>Comments</th>\n",
       "    </tr>\n",
       "  </thead>\n",
       "  <tbody>\n",
       "    <tr>\n",
       "      <th>0</th>\n",
       "      <td>1/6/2012</td>\n",
       "      <td>16:37</td>\n",
       "      <td>Friday</td>\n",
       "      <td>Home</td>\n",
       "      <td>51.29</td>\n",
       "      <td>127.4</td>\n",
       "      <td>78.3</td>\n",
       "      <td>84.8</td>\n",
       "      <td>NaN</td>\n",
       "      <td>39.3</td>\n",
       "      <td>36.3</td>\n",
       "      <td>No</td>\n",
       "      <td>NaN</td>\n",
       "    </tr>\n",
       "    <tr>\n",
       "      <th>1</th>\n",
       "      <td>1/6/2012</td>\n",
       "      <td>08:20</td>\n",
       "      <td>Friday</td>\n",
       "      <td>GSK</td>\n",
       "      <td>51.63</td>\n",
       "      <td>130.3</td>\n",
       "      <td>81.8</td>\n",
       "      <td>88.9</td>\n",
       "      <td>NaN</td>\n",
       "      <td>37.9</td>\n",
       "      <td>34.9</td>\n",
       "      <td>No</td>\n",
       "      <td>NaN</td>\n",
       "    </tr>\n",
       "    <tr>\n",
       "      <th>2</th>\n",
       "      <td>1/4/2012</td>\n",
       "      <td>16:17</td>\n",
       "      <td>Wednesday</td>\n",
       "      <td>Home</td>\n",
       "      <td>51.27</td>\n",
       "      <td>127.4</td>\n",
       "      <td>82.0</td>\n",
       "      <td>85.8</td>\n",
       "      <td>NaN</td>\n",
       "      <td>37.5</td>\n",
       "      <td>35.9</td>\n",
       "      <td>No</td>\n",
       "      <td>NaN</td>\n",
       "    </tr>\n",
       "    <tr>\n",
       "      <th>3</th>\n",
       "      <td>1/4/2012</td>\n",
       "      <td>07:53</td>\n",
       "      <td>Wednesday</td>\n",
       "      <td>GSK</td>\n",
       "      <td>49.17</td>\n",
       "      <td>132.3</td>\n",
       "      <td>74.2</td>\n",
       "      <td>82.9</td>\n",
       "      <td>NaN</td>\n",
       "      <td>39.8</td>\n",
       "      <td>35.6</td>\n",
       "      <td>No</td>\n",
       "      <td>NaN</td>\n",
       "    </tr>\n",
       "    <tr>\n",
       "      <th>4</th>\n",
       "      <td>1/3/2012</td>\n",
       "      <td>18:57</td>\n",
       "      <td>Tuesday</td>\n",
       "      <td>Home</td>\n",
       "      <td>51.15</td>\n",
       "      <td>136.2</td>\n",
       "      <td>83.4</td>\n",
       "      <td>88.1</td>\n",
       "      <td>NaN</td>\n",
       "      <td>36.8</td>\n",
       "      <td>34.8</td>\n",
       "      <td>No</td>\n",
       "      <td>NaN</td>\n",
       "    </tr>\n",
       "  </tbody>\n",
       "</table>\n",
       "</div>"
      ],
      "text/plain": [
       "       Date StartTime  DayOfWeek GoingTo  Distance  MaxSpeed  AvgSpeed  \\\n",
       "0  1/6/2012     16:37     Friday    Home     51.29     127.4      78.3   \n",
       "1  1/6/2012     08:20     Friday     GSK     51.63     130.3      81.8   \n",
       "2  1/4/2012     16:17  Wednesday    Home     51.27     127.4      82.0   \n",
       "3  1/4/2012     07:53  Wednesday     GSK     49.17     132.3      74.2   \n",
       "4  1/3/2012     18:57    Tuesday    Home     51.15     136.2      83.4   \n",
       "\n",
       "   AvgMovingSpeed FuelEconomy  TotalTime  MovingTime Take407All Comments  \n",
       "0            84.8         NaN       39.3        36.3         No      NaN  \n",
       "1            88.9         NaN       37.9        34.9         No      NaN  \n",
       "2            85.8         NaN       37.5        35.9         No      NaN  \n",
       "3            82.9         NaN       39.8        35.6         No      NaN  \n",
       "4            88.1         NaN       36.8        34.8         No      NaN  "
      ]
     },
     "execution_count": 19,
     "metadata": {},
     "output_type": "execute_result"
    }
   ],
   "source": [
    "travel_df=pd.read_csv('datasets/travel-times.csv')\n",
    "travel_df.head()"
   ]
  },
  {
   "cell_type": "markdown",
   "metadata": {},
   "source": [
    "### Exercise 2:\n",
    "\n",
    "Use the pandas library to read in the file \"income_expenses.xlsx\" as a dataframe. Set the dataframe's variable name as \"expense_df\".\n",
    "\n",
    "*Note*: Download the file from [here](https://notebooks.azure.com/priesterkc/projects/DABmaterial/tree/Lv1%20Data%20Analytics/datasets)."
   ]
  },
  {
   "cell_type": "code",
   "execution_count": 20,
   "metadata": {},
   "outputs": [
    {
     "data": {
      "text/html": [
       "<div>\n",
       "<style scoped>\n",
       "    .dataframe tbody tr th:only-of-type {\n",
       "        vertical-align: middle;\n",
       "    }\n",
       "\n",
       "    .dataframe tbody tr th {\n",
       "        vertical-align: top;\n",
       "    }\n",
       "\n",
       "    .dataframe thead th {\n",
       "        text-align: right;\n",
       "    }\n",
       "</style>\n",
       "<table border=\"1\" class=\"dataframe\">\n",
       "  <thead>\n",
       "    <tr style=\"text-align: right;\">\n",
       "      <th></th>\n",
       "      <th>Income Range</th>\n",
       "      <th>Category</th>\n",
       "      <th>Amount</th>\n",
       "      <th>Class_level</th>\n",
       "    </tr>\n",
       "  </thead>\n",
       "  <tbody>\n",
       "    <tr>\n",
       "      <th>0</th>\n",
       "      <td>$100-200</td>\n",
       "      <td>Rent</td>\n",
       "      <td>26.43</td>\n",
       "      <td>Poor</td>\n",
       "    </tr>\n",
       "    <tr>\n",
       "      <th>1</th>\n",
       "      <td>$100-200</td>\n",
       "      <td>Food</td>\n",
       "      <td>59.81</td>\n",
       "      <td>Poor</td>\n",
       "    </tr>\n",
       "    <tr>\n",
       "      <th>2</th>\n",
       "      <td>$100-200</td>\n",
       "      <td>Clothes</td>\n",
       "      <td>38.95</td>\n",
       "      <td>Poor</td>\n",
       "    </tr>\n",
       "    <tr>\n",
       "      <th>3</th>\n",
       "      <td>$100-200</td>\n",
       "      <td>Taxes</td>\n",
       "      <td>0.14</td>\n",
       "      <td>Poor</td>\n",
       "    </tr>\n",
       "    <tr>\n",
       "      <th>4</th>\n",
       "      <td>$100-200</td>\n",
       "      <td>Other Expenses and Savings</td>\n",
       "      <td>13.77</td>\n",
       "      <td>Poor</td>\n",
       "    </tr>\n",
       "  </tbody>\n",
       "</table>\n",
       "</div>"
      ],
      "text/plain": [
       "  Income Range                    Category  Amount Class_level\n",
       "0     $100-200                        Rent   26.43        Poor\n",
       "1     $100-200                        Food   59.81        Poor\n",
       "2     $100-200                     Clothes   38.95        Poor\n",
       "3     $100-200                       Taxes    0.14        Poor\n",
       "4     $100-200  Other Expenses and Savings   13.77        Poor"
      ]
     },
     "execution_count": 20,
     "metadata": {},
     "output_type": "execute_result"
    }
   ],
   "source": [
    "expense_df=pd.read_excel('datasets/income_expenses.xlsx')\n",
    "expense_df.head()"
   ]
  },
  {
   "cell_type": "markdown",
   "metadata": {},
   "source": [
    "### Exercise 3:\n",
    "Using the lists in the cell below, write code that will zip up the lists and make them into one list, then turn it into a dataframe. Next, export the dataframe as a csv file. Then try exporting the dataframe as an Excel file."
   ]
  },
  {
   "cell_type": "code",
   "execution_count": 21,
   "metadata": {},
   "outputs": [],
   "source": [
    "names = ['Nike','Adidas','New Balance','Puma','Reebok']\n",
    "grades = [176,59,47,38,99]"
   ]
  },
  {
   "cell_type": "code",
   "execution_count": 22,
   "metadata": {},
   "outputs": [
    {
     "name": "stdout",
     "output_type": "stream",
     "text": [
      "[('Nike', 176), ('Adidas', 59), ('New Balance', 47), ('Puma', 38), ('Reebok', 99)]\n"
     ]
    }
   ],
   "source": [
    "gradeList=list(zip(names,grades))\n",
    "print(gradeList)\n",
    "df=pd.DataFrame(data = gradeList, columns=['Names','Grades'])\n",
    "df.to_csv('datasets/sportingGoods.csv')\n",
    "writer= pd.ExcelWriter('datasets/sportsBrands.xlsx',engine='xlsxwriter')\n",
    "df.to_excel(writer)\n",
    "writer.save()"
   ]
  },
  {
   "cell_type": "markdown",
   "metadata": {},
   "source": [
    "### Exercise 4:\n",
    "\n",
    "What columns are in the travel_df dataframe? What columns are in the expense_df dataframe?"
   ]
  },
  {
   "cell_type": "code",
   "execution_count": 26,
   "metadata": {},
   "outputs": [
    {
     "data": {
      "text/plain": [
       "Index(['Date', 'StartTime', 'DayOfWeek', 'GoingTo', 'Distance', 'MaxSpeed',\n",
       "       'AvgSpeed', 'AvgMovingSpeed', 'FuelEconomy', 'TotalTime', 'MovingTime',\n",
       "       'Take407All', 'Comments'],\n",
       "      dtype='object')"
      ]
     },
     "execution_count": 26,
     "metadata": {},
     "output_type": "execute_result"
    }
   ],
   "source": [
    "travel_df.columns"
   ]
  },
  {
   "cell_type": "code",
   "execution_count": 27,
   "metadata": {},
   "outputs": [
    {
     "data": {
      "text/plain": [
       "Index(['Income Range', 'Category', 'Amount', 'Class_level'], dtype='object')"
      ]
     },
     "execution_count": 27,
     "metadata": {},
     "output_type": "execute_result"
    }
   ],
   "source": [
    "expense_df.columns"
   ]
  },
  {
   "cell_type": "markdown",
   "metadata": {},
   "source": [
    "### Exercise 5:\n",
    "\n",
    "Using the expense_df dataframe, sum the expense amount using the group_by function by income range."
   ]
  },
  {
   "cell_type": "code",
   "execution_count": 34,
   "metadata": {},
   "outputs": [
    {
     "data": {
      "text/html": [
       "<div>\n",
       "<style scoped>\n",
       "    .dataframe tbody tr th:only-of-type {\n",
       "        vertical-align: middle;\n",
       "    }\n",
       "\n",
       "    .dataframe tbody tr th {\n",
       "        vertical-align: top;\n",
       "    }\n",
       "\n",
       "    .dataframe thead th {\n",
       "        text-align: right;\n",
       "    }\n",
       "</style>\n",
       "<table border=\"1\" class=\"dataframe\">\n",
       "  <thead>\n",
       "    <tr style=\"text-align: right;\">\n",
       "      <th></th>\n",
       "      <th>Amount</th>\n",
       "    </tr>\n",
       "    <tr>\n",
       "      <th>Income Range</th>\n",
       "      <th></th>\n",
       "    </tr>\n",
       "  </thead>\n",
       "  <tbody>\n",
       "    <tr>\n",
       "      <th>$100-200</th>\n",
       "      <td>139.10</td>\n",
       "    </tr>\n",
       "    <tr>\n",
       "      <th>$1000+</th>\n",
       "      <td>1125.00</td>\n",
       "    </tr>\n",
       "    <tr>\n",
       "      <th>$200-300</th>\n",
       "      <td>249.45</td>\n",
       "    </tr>\n",
       "    <tr>\n",
       "      <th>$300-400</th>\n",
       "      <td>335.68</td>\n",
       "    </tr>\n",
       "    <tr>\n",
       "      <th>$400-500</th>\n",
       "      <td>433.82</td>\n",
       "    </tr>\n",
       "    <tr>\n",
       "      <th>$500-750</th>\n",
       "      <td>557.00</td>\n",
       "    </tr>\n",
       "    <tr>\n",
       "      <th>$750-1000</th>\n",
       "      <td>880.00</td>\n",
       "    </tr>\n",
       "  </tbody>\n",
       "</table>\n",
       "</div>"
      ],
      "text/plain": [
       "               Amount\n",
       "Income Range         \n",
       "$100-200       139.10\n",
       "$1000+        1125.00\n",
       "$200-300       249.45\n",
       "$300-400       335.68\n",
       "$400-500       433.82\n",
       "$500-750       557.00\n",
       "$750-1000      880.00"
      ]
     },
     "execution_count": 34,
     "metadata": {},
     "output_type": "execute_result"
    }
   ],
   "source": [
    "expense_df.groupby(['Income Range']).sum()"
   ]
  },
  {
   "cell_type": "markdown",
   "metadata": {},
   "source": [
    "### Exercise 6:\n",
    "\n",
    "Using the travel_df dataframe and pivot_table function, get the average total time by day of the week and direction traveled (Home/GSK). "
   ]
  },
  {
   "cell_type": "code",
   "execution_count": 41,
   "metadata": {},
   "outputs": [
    {
     "data": {
      "text/html": [
       "<div>\n",
       "<style scoped>\n",
       "    .dataframe tbody tr th:only-of-type {\n",
       "        vertical-align: middle;\n",
       "    }\n",
       "\n",
       "    .dataframe tbody tr th {\n",
       "        vertical-align: top;\n",
       "    }\n",
       "\n",
       "    .dataframe thead th {\n",
       "        text-align: right;\n",
       "    }\n",
       "</style>\n",
       "<table border=\"1\" class=\"dataframe\">\n",
       "  <thead>\n",
       "    <tr style=\"text-align: right;\">\n",
       "      <th></th>\n",
       "      <th></th>\n",
       "      <th>TotalTime</th>\n",
       "    </tr>\n",
       "    <tr>\n",
       "      <th>DayOfWeek</th>\n",
       "      <th>GoingTo</th>\n",
       "      <th></th>\n",
       "    </tr>\n",
       "  </thead>\n",
       "  <tbody>\n",
       "    <tr>\n",
       "      <th rowspan=\"2\" valign=\"top\">Friday</th>\n",
       "      <th>GSK</th>\n",
       "      <td>37.628571</td>\n",
       "    </tr>\n",
       "    <tr>\n",
       "      <th>Home</th>\n",
       "      <td>38.238462</td>\n",
       "    </tr>\n",
       "    <tr>\n",
       "      <th rowspan=\"2\" valign=\"top\">Monday</th>\n",
       "      <th>GSK</th>\n",
       "      <td>44.747368</td>\n",
       "    </tr>\n",
       "    <tr>\n",
       "      <th>Home</th>\n",
       "      <td>41.725000</td>\n",
       "    </tr>\n",
       "    <tr>\n",
       "      <th rowspan=\"2\" valign=\"top\">Thursday</th>\n",
       "      <th>GSK</th>\n",
       "      <td>40.204167</td>\n",
       "    </tr>\n",
       "    <tr>\n",
       "      <th>Home</th>\n",
       "      <td>42.345000</td>\n",
       "    </tr>\n",
       "    <tr>\n",
       "      <th rowspan=\"2\" valign=\"top\">Tuesday</th>\n",
       "      <th>GSK</th>\n",
       "      <td>42.079167</td>\n",
       "    </tr>\n",
       "    <tr>\n",
       "      <th>Home</th>\n",
       "      <td>42.962500</td>\n",
       "    </tr>\n",
       "    <tr>\n",
       "      <th rowspan=\"2\" valign=\"top\">Wednesday</th>\n",
       "      <th>GSK</th>\n",
       "      <td>42.087500</td>\n",
       "    </tr>\n",
       "    <tr>\n",
       "      <th>Home</th>\n",
       "      <td>44.300000</td>\n",
       "    </tr>\n",
       "  </tbody>\n",
       "</table>\n",
       "</div>"
      ],
      "text/plain": [
       "                   TotalTime\n",
       "DayOfWeek GoingTo           \n",
       "Friday    GSK      37.628571\n",
       "          Home     38.238462\n",
       "Monday    GSK      44.747368\n",
       "          Home     41.725000\n",
       "Thursday  GSK      40.204167\n",
       "          Home     42.345000\n",
       "Tuesday   GSK      42.079167\n",
       "          Home     42.962500\n",
       "Wednesday GSK      42.087500\n",
       "          Home     44.300000"
      ]
     },
     "execution_count": 41,
     "metadata": {},
     "output_type": "execute_result"
    }
   ],
   "source": [
    "pd.pivot_table(travel_df, index=['DayOfWeek','GoingTo'],values='TotalTime',aggfunc='mean')"
   ]
  },
  {
   "cell_type": "markdown",
   "metadata": {},
   "source": [
    "### Exercise 7:\n",
    "\n",
    "Choose either the travel_df or expense_df and do some exploratory analysis."
   ]
  },
  {
   "cell_type": "code",
   "execution_count": 42,
   "metadata": {},
   "outputs": [
    {
     "data": {
      "text/html": [
       "<div>\n",
       "<style scoped>\n",
       "    .dataframe tbody tr th:only-of-type {\n",
       "        vertical-align: middle;\n",
       "    }\n",
       "\n",
       "    .dataframe tbody tr th {\n",
       "        vertical-align: top;\n",
       "    }\n",
       "\n",
       "    .dataframe thead th {\n",
       "        text-align: right;\n",
       "    }\n",
       "</style>\n",
       "<table border=\"1\" class=\"dataframe\">\n",
       "  <thead>\n",
       "    <tr style=\"text-align: right;\">\n",
       "      <th></th>\n",
       "      <th>Distance</th>\n",
       "      <th>MaxSpeed</th>\n",
       "      <th>AvgSpeed</th>\n",
       "      <th>AvgMovingSpeed</th>\n",
       "      <th>TotalTime</th>\n",
       "      <th>MovingTime</th>\n",
       "    </tr>\n",
       "  </thead>\n",
       "  <tbody>\n",
       "    <tr>\n",
       "      <th>count</th>\n",
       "      <td>205.000000</td>\n",
       "      <td>205.000000</td>\n",
       "      <td>205.000000</td>\n",
       "      <td>205.000000</td>\n",
       "      <td>205.000000</td>\n",
       "      <td>205.000000</td>\n",
       "    </tr>\n",
       "    <tr>\n",
       "      <th>mean</th>\n",
       "      <td>50.981512</td>\n",
       "      <td>127.591707</td>\n",
       "      <td>74.477561</td>\n",
       "      <td>81.975610</td>\n",
       "      <td>41.904390</td>\n",
       "      <td>37.871707</td>\n",
       "    </tr>\n",
       "    <tr>\n",
       "      <th>std</th>\n",
       "      <td>1.321205</td>\n",
       "      <td>4.128450</td>\n",
       "      <td>11.409816</td>\n",
       "      <td>10.111544</td>\n",
       "      <td>6.849476</td>\n",
       "      <td>4.835072</td>\n",
       "    </tr>\n",
       "    <tr>\n",
       "      <th>min</th>\n",
       "      <td>48.320000</td>\n",
       "      <td>112.200000</td>\n",
       "      <td>38.100000</td>\n",
       "      <td>50.300000</td>\n",
       "      <td>28.200000</td>\n",
       "      <td>27.100000</td>\n",
       "    </tr>\n",
       "    <tr>\n",
       "      <th>25%</th>\n",
       "      <td>50.650000</td>\n",
       "      <td>124.900000</td>\n",
       "      <td>68.900000</td>\n",
       "      <td>76.600000</td>\n",
       "      <td>38.400000</td>\n",
       "      <td>35.700000</td>\n",
       "    </tr>\n",
       "    <tr>\n",
       "      <th>50%</th>\n",
       "      <td>51.140000</td>\n",
       "      <td>127.400000</td>\n",
       "      <td>73.600000</td>\n",
       "      <td>81.400000</td>\n",
       "      <td>41.300000</td>\n",
       "      <td>37.600000</td>\n",
       "    </tr>\n",
       "    <tr>\n",
       "      <th>75%</th>\n",
       "      <td>51.630000</td>\n",
       "      <td>129.800000</td>\n",
       "      <td>79.900000</td>\n",
       "      <td>86.000000</td>\n",
       "      <td>44.400000</td>\n",
       "      <td>39.900000</td>\n",
       "    </tr>\n",
       "    <tr>\n",
       "      <th>max</th>\n",
       "      <td>60.320000</td>\n",
       "      <td>140.900000</td>\n",
       "      <td>107.700000</td>\n",
       "      <td>112.100000</td>\n",
       "      <td>82.300000</td>\n",
       "      <td>62.400000</td>\n",
       "    </tr>\n",
       "  </tbody>\n",
       "</table>\n",
       "</div>"
      ],
      "text/plain": [
       "         Distance    MaxSpeed    AvgSpeed  AvgMovingSpeed   TotalTime  \\\n",
       "count  205.000000  205.000000  205.000000      205.000000  205.000000   \n",
       "mean    50.981512  127.591707   74.477561       81.975610   41.904390   \n",
       "std      1.321205    4.128450   11.409816       10.111544    6.849476   \n",
       "min     48.320000  112.200000   38.100000       50.300000   28.200000   \n",
       "25%     50.650000  124.900000   68.900000       76.600000   38.400000   \n",
       "50%     51.140000  127.400000   73.600000       81.400000   41.300000   \n",
       "75%     51.630000  129.800000   79.900000       86.000000   44.400000   \n",
       "max     60.320000  140.900000  107.700000      112.100000   82.300000   \n",
       "\n",
       "       MovingTime  \n",
       "count  205.000000  \n",
       "mean    37.871707  \n",
       "std      4.835072  \n",
       "min     27.100000  \n",
       "25%     35.700000  \n",
       "50%     37.600000  \n",
       "75%     39.900000  \n",
       "max     62.400000  "
      ]
     },
     "execution_count": 42,
     "metadata": {},
     "output_type": "execute_result"
    }
   ],
   "source": [
    "travel_df.describe()"
   ]
  },
  {
   "cell_type": "code",
   "execution_count": 43,
   "metadata": {},
   "outputs": [
    {
     "data": {
      "text/html": [
       "<div>\n",
       "<style scoped>\n",
       "    .dataframe tbody tr th:only-of-type {\n",
       "        vertical-align: middle;\n",
       "    }\n",
       "\n",
       "    .dataframe tbody tr th {\n",
       "        vertical-align: top;\n",
       "    }\n",
       "\n",
       "    .dataframe thead th {\n",
       "        text-align: right;\n",
       "    }\n",
       "</style>\n",
       "<table border=\"1\" class=\"dataframe\">\n",
       "  <thead>\n",
       "    <tr style=\"text-align: right;\">\n",
       "      <th></th>\n",
       "      <th>Amount</th>\n",
       "    </tr>\n",
       "  </thead>\n",
       "  <tbody>\n",
       "    <tr>\n",
       "      <th>count</th>\n",
       "      <td>35.000000</td>\n",
       "    </tr>\n",
       "    <tr>\n",
       "      <th>mean</th>\n",
       "      <td>106.287143</td>\n",
       "    </tr>\n",
       "    <tr>\n",
       "      <th>std</th>\n",
       "      <td>120.399752</td>\n",
       "    </tr>\n",
       "    <tr>\n",
       "      <th>min</th>\n",
       "      <td>0.000000</td>\n",
       "    </tr>\n",
       "    <tr>\n",
       "      <th>25%</th>\n",
       "      <td>31.890000</td>\n",
       "    </tr>\n",
       "    <tr>\n",
       "      <th>50%</th>\n",
       "      <td>65.070000</td>\n",
       "    </tr>\n",
       "    <tr>\n",
       "      <th>75%</th>\n",
       "      <td>152.425000</td>\n",
       "    </tr>\n",
       "    <tr>\n",
       "      <th>max</th>\n",
       "      <td>568.130000</td>\n",
       "    </tr>\n",
       "  </tbody>\n",
       "</table>\n",
       "</div>"
      ],
      "text/plain": [
       "           Amount\n",
       "count   35.000000\n",
       "mean   106.287143\n",
       "std    120.399752\n",
       "min      0.000000\n",
       "25%     31.890000\n",
       "50%     65.070000\n",
       "75%    152.425000\n",
       "max    568.130000"
      ]
     },
     "execution_count": 43,
     "metadata": {},
     "output_type": "execute_result"
    }
   ],
   "source": [
    "expense_df.describe()"
   ]
  },
  {
   "cell_type": "code",
   "execution_count": 63,
   "metadata": {},
   "outputs": [
    {
     "data": {
      "text/plain": [
       "Date                0\n",
       "StartTime           0\n",
       "DayOfWeek           0\n",
       "GoingTo             0\n",
       "Distance            0\n",
       "MaxSpeed            0\n",
       "AvgSpeed            0\n",
       "AvgMovingSpeed      0\n",
       "FuelEconomy        17\n",
       "TotalTime           0\n",
       "MovingTime          0\n",
       "Take407All          0\n",
       "Comments          181\n",
       "dtype: int64"
      ]
     },
     "execution_count": 63,
     "metadata": {},
     "output_type": "execute_result"
    }
   ],
   "source": [
    "travel_df.isnull().sum()"
   ]
  },
  {
   "cell_type": "code",
   "execution_count": 62,
   "metadata": {},
   "outputs": [
    {
     "data": {
      "text/plain": [
       "Income Range    0\n",
       "Category        0\n",
       "Amount          0\n",
       "Class_level     0\n",
       "dtype: int64"
      ]
     },
     "execution_count": 62,
     "metadata": {},
     "output_type": "execute_result"
    }
   ],
   "source": [
    "expense_df.isnull().sum()"
   ]
  },
  {
   "cell_type": "code",
   "execution_count": 57,
   "metadata": {},
   "outputs": [],
   "source": [
    "dupe_data=travel_df.duplicated()"
   ]
  },
  {
   "cell_type": "code",
   "execution_count": 58,
   "metadata": {},
   "outputs": [
    {
     "data": {
      "text/plain": [
       "0      False\n",
       "1      False\n",
       "2      False\n",
       "3      False\n",
       "4      False\n",
       "5      False\n",
       "6      False\n",
       "7      False\n",
       "8      False\n",
       "9      False\n",
       "10     False\n",
       "11     False\n",
       "12     False\n",
       "13     False\n",
       "14     False\n",
       "15     False\n",
       "16     False\n",
       "17     False\n",
       "18     False\n",
       "19     False\n",
       "20     False\n",
       "21     False\n",
       "22     False\n",
       "23     False\n",
       "24     False\n",
       "25     False\n",
       "26     False\n",
       "27     False\n",
       "28     False\n",
       "29     False\n",
       "       ...  \n",
       "175    False\n",
       "176    False\n",
       "177    False\n",
       "178    False\n",
       "179    False\n",
       "180    False\n",
       "181    False\n",
       "182    False\n",
       "183    False\n",
       "184    False\n",
       "185    False\n",
       "186    False\n",
       "187    False\n",
       "188    False\n",
       "189    False\n",
       "190    False\n",
       "191    False\n",
       "192    False\n",
       "193    False\n",
       "194    False\n",
       "195    False\n",
       "196    False\n",
       "197    False\n",
       "198    False\n",
       "199    False\n",
       "200    False\n",
       "201    False\n",
       "202    False\n",
       "203    False\n",
       "204    False\n",
       "Length: 205, dtype: bool"
      ]
     },
     "execution_count": 58,
     "metadata": {},
     "output_type": "execute_result"
    }
   ],
   "source": [
    "dupe_data"
   ]
  },
  {
   "cell_type": "code",
   "execution_count": 60,
   "metadata": {},
   "outputs": [],
   "source": [
    "dupe_data2=travel_df.duplicated()"
   ]
  },
  {
   "cell_type": "code",
   "execution_count": 54,
   "metadata": {},
   "outputs": [
    {
     "name": "stdout",
     "output_type": "stream",
     "text": [
      "0     False\n",
      "1     False\n",
      "2     False\n",
      "3     False\n",
      "4     False\n",
      "5     False\n",
      "6     False\n",
      "7     False\n",
      "8     False\n",
      "9     False\n",
      "10    False\n",
      "11    False\n",
      "12    False\n",
      "13    False\n",
      "14    False\n",
      "15    False\n",
      "16    False\n",
      "17    False\n",
      "18    False\n",
      "19    False\n",
      "20    False\n",
      "21    False\n",
      "22    False\n",
      "23    False\n",
      "24    False\n",
      "25    False\n",
      "26    False\n",
      "27    False\n",
      "28    False\n",
      "29    False\n",
      "30    False\n",
      "31    False\n",
      "32    False\n",
      "33    False\n",
      "34    False\n",
      "dtype: bool\n"
     ]
    }
   ],
   "source": [
    "print(dupe_data2)"
   ]
  },
  {
   "cell_type": "code",
   "execution_count": null,
   "metadata": {},
   "outputs": [],
   "source": []
  }
 ],
 "metadata": {
  "kernelspec": {
   "display_name": "Python 3",
   "language": "python",
   "name": "python3"
  },
  "language_info": {
   "codemirror_mode": {
    "name": "ipython",
    "version": 3
   },
   "file_extension": ".py",
   "mimetype": "text/x-python",
   "name": "python",
   "nbconvert_exporter": "python",
   "pygments_lexer": "ipython3",
   "version": "3.7.3"
  }
 },
 "nbformat": 4,
 "nbformat_minor": 2
}
